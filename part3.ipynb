{
 "cells": [
  {
   "cell_type": "code",
   "execution_count": 2,
   "id": "8e7e066f-6c61-4339-84df-0af0cd9f37cf",
   "metadata": {},
   "outputs": [],
   "source": [
    "#Python String Method"
   ]
  },
  {
   "cell_type": "code",
   "execution_count": 6,
   "id": "ee923e57-f89f-4f8a-8cef-76d6bc548c89",
   "metadata": {},
   "outputs": [
    {
     "data": {
      "text/plain": [
       "8"
      ]
     },
     "execution_count": 6,
     "metadata": {},
     "output_type": "execute_result"
    }
   ],
   "source": [
    "data = \"60 Days of Python\"\n",
    "data.find('of')"
   ]
  },
  {
   "cell_type": "code",
   "execution_count": 7,
   "id": "621394c1-057b-44c7-afd1-6bf1450c8414",
   "metadata": {},
   "outputs": [
    {
     "data": {
      "text/plain": [
       "9"
      ]
     },
     "execution_count": 7,
     "metadata": {},
     "output_type": "execute_result"
    }
   ],
   "source": [
    "data.find('f')"
   ]
  },
  {
   "cell_type": "code",
   "execution_count": 9,
   "id": "902c4042-b749-4a2d-815a-01c2fcbc694b",
   "metadata": {},
   "outputs": [
    {
     "data": {
      "text/plain": [
       "-1"
      ]
     },
     "execution_count": 9,
     "metadata": {},
     "output_type": "execute_result"
    }
   ],
   "source": [
    "data.find('y', 6,10)"
   ]
  },
  {
   "cell_type": "code",
   "execution_count": 10,
   "id": "3c5948ec-92b6-4441-8b18-913613af6a54",
   "metadata": {},
   "outputs": [
    {
     "data": {
      "text/plain": [
       "12"
      ]
     },
     "execution_count": 10,
     "metadata": {},
     "output_type": "execute_result"
    }
   ],
   "source": [
    "data.find('y', 6, 14)\n"
   ]
  },
  {
   "cell_type": "code",
   "execution_count": 11,
   "id": "8c92bef7-ef99-49aa-81b0-43d8f1b765eb",
   "metadata": {},
   "outputs": [
    {
     "data": {
      "text/plain": [
       "5"
      ]
     },
     "execution_count": 11,
     "metadata": {},
     "output_type": "execute_result"
    }
   ],
   "source": [
    "data.index('y')"
   ]
  },
  {
   "cell_type": "code",
   "execution_count": 12,
   "id": "019f7b18-2469-4ae0-abf7-e3103652b4b0",
   "metadata": {},
   "outputs": [
    {
     "data": {
      "text/plain": [
       "-1"
      ]
     },
     "execution_count": 12,
     "metadata": {},
     "output_type": "execute_result"
    }
   ],
   "source": [
    "data.find('2')\n"
   ]
  },
  {
   "cell_type": "code",
   "execution_count": 14,
   "id": "2655bfc6-ccda-4936-959b-075c845f7e58",
   "metadata": {},
   "outputs": [
    {
     "data": {
      "text/plain": [
       "'60 days of python'"
      ]
     },
     "execution_count": 14,
     "metadata": {},
     "output_type": "execute_result"
    }
   ],
   "source": [
    "data.lower() #convert all char into lower case"
   ]
  },
  {
   "cell_type": "code",
   "execution_count": 15,
   "id": "bb27de82-a63c-4c0e-8148-a5f9c4f757e6",
   "metadata": {},
   "outputs": [
    {
     "data": {
      "text/plain": [
       "'60 DAYS OF PYTHON'"
      ]
     },
     "execution_count": 15,
     "metadata": {},
     "output_type": "execute_result"
    }
   ],
   "source": [
    "data.upper() #convert all char into upper case\n"
   ]
  },
  {
   "cell_type": "code",
   "execution_count": 16,
   "id": "20186615-8537-4562-afbd-fb30515cb079",
   "metadata": {},
   "outputs": [
    {
     "data": {
      "text/plain": [
       "'60 days of python'"
      ]
     },
     "execution_count": 16,
     "metadata": {},
     "output_type": "execute_result"
    }
   ],
   "source": [
    "data.casefold()"
   ]
  },
  {
   "cell_type": "code",
   "execution_count": 21,
   "id": "d99b6060-6f69-41b7-afc4-1951f07e2421",
   "metadata": {},
   "outputs": [
    {
     "data": {
      "text/plain": [
       "'Data scince is fun'"
      ]
     },
     "execution_count": 21,
     "metadata": {},
     "output_type": "execute_result"
    }
   ],
   "source": [
    "x = 'data SCINCE is fun'\n",
    "\n",
    "x.capitalize()"
   ]
  },
  {
   "cell_type": "code",
   "execution_count": 22,
   "id": "9eed519a-cfbd-4ed4-8760-ed255c49b5ad",
   "metadata": {},
   "outputs": [
    {
     "data": {
      "text/plain": [
       "'DATA scince IS FUN'"
      ]
     },
     "execution_count": 22,
     "metadata": {},
     "output_type": "execute_result"
    }
   ],
   "source": [
    "x.swapcase()"
   ]
  },
  {
   "cell_type": "code",
   "execution_count": 23,
   "id": "a7c4209d-991f-4441-849d-9fdcac368be9",
   "metadata": {},
   "outputs": [
    {
     "data": {
      "text/plain": [
       "'Data Scince Is Fun'"
      ]
     },
     "execution_count": 23,
     "metadata": {},
     "output_type": "execute_result"
    }
   ],
   "source": [
    "x.title()"
   ]
  },
  {
   "cell_type": "code",
   "execution_count": 24,
   "id": "ee3e45f3-0413-44eb-adcc-144bf2a94b6c",
   "metadata": {},
   "outputs": [
    {
     "data": {
      "text/plain": [
       "False"
      ]
     },
     "execution_count": 24,
     "metadata": {},
     "output_type": "execute_result"
    }
   ],
   "source": [
    "x.islower()"
   ]
  },
  {
   "cell_type": "code",
   "execution_count": 25,
   "id": "73307ceb-03cc-4b27-9e59-cc0fc995f3ac",
   "metadata": {},
   "outputs": [
    {
     "data": {
      "text/plain": [
       "False"
      ]
     },
     "execution_count": 25,
     "metadata": {},
     "output_type": "execute_result"
    }
   ],
   "source": [
    "x.isupper()"
   ]
  },
  {
   "cell_type": "code",
   "execution_count": 26,
   "id": "80f494f1-c64f-4d18-b50d-c91a57843ac4",
   "metadata": {},
   "outputs": [
    {
     "data": {
      "text/plain": [
       "b'data SCINCE is fun'"
      ]
     },
     "execution_count": 26,
     "metadata": {},
     "output_type": "execute_result"
    }
   ],
   "source": [
    "x.encode()"
   ]
  },
  {
   "cell_type": "code",
   "execution_count": 27,
   "id": "7ebece87-42f7-4c5c-8526-29cb5af781fe",
   "metadata": {},
   "outputs": [
    {
     "data": {
      "text/plain": [
       "bytes"
      ]
     },
     "execution_count": 27,
     "metadata": {},
     "output_type": "execute_result"
    }
   ],
   "source": [
    "type(x.encode())"
   ]
  },
  {
   "cell_type": "code",
   "execution_count": 28,
   "id": "a7b78546-6dea-4bff-a742-cafa7b320c88",
   "metadata": {},
   "outputs": [
    {
     "data": {
      "text/plain": [
       "['data', 'SCINCE', 'is', 'fun']"
      ]
     },
     "execution_count": 28,
     "metadata": {},
     "output_type": "execute_result"
    }
   ],
   "source": [
    "x.split()"
   ]
  },
  {
   "cell_type": "code",
   "execution_count": 29,
   "id": "4e9fd6f5-4521-44cd-a13e-e6dca0adbcb0",
   "metadata": {},
   "outputs": [
    {
     "data": {
      "text/plain": [
       "'data'"
      ]
     },
     "execution_count": 29,
     "metadata": {},
     "output_type": "execute_result"
    }
   ],
   "source": [
    "x.split()[0]"
   ]
  },
  {
   "cell_type": "code",
   "execution_count": 30,
   "id": "931177ee-9d55-4f58-a380-b560eb8f5c78",
   "metadata": {},
   "outputs": [
    {
     "data": {
      "text/plain": [
       "'                                         data SCINCE is fun                                         '"
      ]
     },
     "execution_count": 30,
     "metadata": {},
     "output_type": "execute_result"
    }
   ],
   "source": [
    "x.center(100)"
   ]
  },
  {
   "cell_type": "code",
   "execution_count": 31,
   "id": "268ff86a-58bc-4584-b446-9000315c4e35",
   "metadata": {},
   "outputs": [
    {
     "data": {
      "text/plain": [
       "'AI SCINCE is fun'"
      ]
     },
     "execution_count": 31,
     "metadata": {},
     "output_type": "execute_result"
    }
   ],
   "source": [
    "x.replace('data', 'AI')"
   ]
  },
  {
   "cell_type": "code",
   "execution_count": 36,
   "id": "55acb8a8-5552-47f7-af6f-72c00e309435",
   "metadata": {},
   "outputs": [
    {
     "name": "stdout",
     "output_type": "stream",
     "text": [
      "I have  1000\n"
     ]
    }
   ],
   "source": [
    "x=10\n",
    "y=100\n",
    "z=x*y\n",
    "print('I have ', z)"
   ]
  },
  {
   "cell_type": "code",
   "execution_count": 33,
   "id": "03878b1a-a617-41e0-bd3e-1b4a4323e721",
   "metadata": {},
   "outputs": [
    {
     "data": {
      "text/plain": [
       "1000"
      ]
     },
     "execution_count": 33,
     "metadata": {},
     "output_type": "execute_result"
    }
   ],
   "source": [
    "z"
   ]
  },
  {
   "cell_type": "code",
   "execution_count": 37,
   "id": "bfc1cbab-ce56-489e-a150-6df6dcd70874",
   "metadata": {},
   "outputs": [
    {
     "name": "stdout",
     "output_type": "stream",
     "text": [
      "I have 1000 taka\n"
     ]
    }
   ],
   "source": [
    "print ('I have {} taka'.format(z))"
   ]
  },
  {
   "cell_type": "code",
   "execution_count": null,
   "id": "ccb42cdf-e141-41dd-aaec-4c960ae7eb5a",
   "metadata": {},
   "outputs": [],
   "source": []
  }
 ],
 "metadata": {
  "kernelspec": {
   "display_name": "Python 3 (ipykernel)",
   "language": "python",
   "name": "python3"
  },
  "language_info": {
   "codemirror_mode": {
    "name": "ipython",
    "version": 3
   },
   "file_extension": ".py",
   "mimetype": "text/x-python",
   "name": "python",
   "nbconvert_exporter": "python",
   "pygments_lexer": "ipython3",
   "version": "3.12.4"
  }
 },
 "nbformat": 4,
 "nbformat_minor": 5
}
