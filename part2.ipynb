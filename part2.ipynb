{
 "cells": [
  {
   "cell_type": "code",
   "execution_count": 1,
   "id": "5e5db874-84e1-4310-8505-d8da0f6ad7ac",
   "metadata": {},
   "outputs": [],
   "source": [
    "#inout function"
   ]
  },
  {
   "cell_type": "code",
   "execution_count": 3,
   "id": "163e5f5f-a094-4d7b-8208-a217f2eba4bd",
   "metadata": {},
   "outputs": [
    {
     "name": "stdin",
     "output_type": "stream",
     "text": [
      " 10\n",
      " 20\n"
     ]
    }
   ],
   "source": [
    "x = input()\n",
    "y = input()"
   ]
  },
  {
   "cell_type": "code",
   "execution_count": 4,
   "id": "e99f3811-69fa-41c2-ae45-d9947fdf1b85",
   "metadata": {},
   "outputs": [
    {
     "data": {
      "text/plain": [
       "'1020'"
      ]
     },
     "execution_count": 4,
     "metadata": {},
     "output_type": "execute_result"
    }
   ],
   "source": [
    "x + y"
   ]
  },
  {
   "cell_type": "code",
   "execution_count": 5,
   "id": "4ebc65c0-7e4e-45e9-b745-cc2b78c2f9dc",
   "metadata": {},
   "outputs": [
    {
     "data": {
      "text/plain": [
       "str"
      ]
     },
     "execution_count": 5,
     "metadata": {},
     "output_type": "execute_result"
    }
   ],
   "source": [
    "type(x)"
   ]
  },
  {
   "cell_type": "code",
   "execution_count": 10,
   "id": "d1e53124-6a25-4a78-a503-86781578634d",
   "metadata": {},
   "outputs": [],
   "source": [
    "x = int(x)\n",
    "y = int(y)"
   ]
  },
  {
   "cell_type": "code",
   "execution_count": 11,
   "id": "e62f3b7b-701c-4f9b-80f8-87e1213572c7",
   "metadata": {},
   "outputs": [
    {
     "data": {
      "text/plain": [
       "30"
      ]
     },
     "execution_count": 11,
     "metadata": {},
     "output_type": "execute_result"
    }
   ],
   "source": [
    "x + y"
   ]
  },
  {
   "cell_type": "code",
   "execution_count": 12,
   "id": "b3b37575-c1bc-4e07-a51e-f38722f77cfc",
   "metadata": {},
   "outputs": [
    {
     "data": {
      "text/plain": [
       "int"
      ]
     },
     "execution_count": 12,
     "metadata": {},
     "output_type": "execute_result"
    }
   ],
   "source": [
    "type(x)"
   ]
  },
  {
   "cell_type": "code",
   "execution_count": 13,
   "id": "14e024d3-44e4-4cc1-b799-fe6c0d225854",
   "metadata": {},
   "outputs": [
    {
     "name": "stdin",
     "output_type": "stream",
     "text": [
      "Enter your 2nd number:  19\n"
     ]
    }
   ],
   "source": [
    "x = int(input(\"Enter your 2nd number: \"))"
   ]
  },
  {
   "cell_type": "code",
   "execution_count": 17,
   "id": "e740baa9-cbb9-4665-9047-89a0d73be574",
   "metadata": {},
   "outputs": [
    {
     "name": "stdin",
     "output_type": "stream",
     "text": [
      "Enter your 1nd number:  10\n"
     ]
    }
   ],
   "source": [
    "y = float(input(\"Enter your 1nd number: \"))"
   ]
  },
  {
   "cell_type": "code",
   "execution_count": 15,
   "id": "40280bc8-fe90-41a0-ac53-b9996bacd606",
   "metadata": {},
   "outputs": [
    {
     "data": {
      "text/plain": [
       "19"
      ]
     },
     "execution_count": 15,
     "metadata": {},
     "output_type": "execute_result"
    }
   ],
   "source": [
    "x\n"
   ]
  },
  {
   "cell_type": "code",
   "execution_count": 18,
   "id": "b5e8abca-883d-4988-b6db-418ec66debd3",
   "metadata": {},
   "outputs": [
    {
     "data": {
      "text/plain": [
       "10.0"
      ]
     },
     "execution_count": 18,
     "metadata": {},
     "output_type": "execute_result"
    }
   ],
   "source": [
    "y"
   ]
  },
  {
   "cell_type": "code",
   "execution_count": 19,
   "id": "fd8b7358-142e-4bd3-a9ff-3418e5426b4d",
   "metadata": {},
   "outputs": [],
   "source": [
    "data = \"60 Day course\""
   ]
  },
  {
   "cell_type": "code",
   "execution_count": 21,
   "id": "aef42b9d-04d0-43ed-9cd8-07761198fa34",
   "metadata": {},
   "outputs": [
    {
     "data": {
      "text/plain": [
       "13"
      ]
     },
     "execution_count": 21,
     "metadata": {},
     "output_type": "execute_result"
    }
   ],
   "source": [
    "len(data)"
   ]
  },
  {
   "cell_type": "raw",
   "id": "bfd7e6b2-f5a6-4817-ba6d-d491057d8b36",
   "metadata": {},
   "source": [
    "import sys\n",
    "sys.getsizeof(data)"
   ]
  },
  {
   "cell_type": "code",
   "execution_count": 22,
   "id": "c1cc1485-06dc-41f4-a3c8-966f9a9b38bf",
   "metadata": {},
   "outputs": [
    {
     "data": {
      "text/plain": [
       "54"
      ]
     },
     "execution_count": 22,
     "metadata": {},
     "output_type": "execute_result"
    }
   ],
   "source": [
    "import sys\n",
    "sys.getsizeof(data)"
   ]
  },
  {
   "cell_type": "code",
   "execution_count": 25,
   "id": "1fcd138e-ac85-4579-abc8-539213bfcf29",
   "metadata": {},
   "outputs": [
    {
     "data": {
      "text/plain": [
       "0"
      ]
     },
     "execution_count": 25,
     "metadata": {},
     "output_type": "execute_result"
    }
   ],
   "source": [
    "data.count('python')\n"
   ]
  },
  {
   "cell_type": "code",
   "execution_count": 24,
   "id": "e42d81eb-830a-4258-9c1d-f260953e0691",
   "metadata": {},
   "outputs": [
    {
     "data": {
      "text/plain": [
       "0"
      ]
     },
     "execution_count": 24,
     "metadata": {},
     "output_type": "execute_result"
    }
   ],
   "source": [
    "sub = 'Days of'\n",
    "data.count(sub)"
   ]
  },
  {
   "cell_type": "code",
   "execution_count": null,
   "id": "8c20e955-655b-454c-81d3-1a4ea7b65e31",
   "metadata": {},
   "outputs": [],
   "source": []
  }
 ],
 "metadata": {
  "kernelspec": {
   "display_name": "Python 3 (ipykernel)",
   "language": "python",
   "name": "python3"
  },
  "language_info": {
   "codemirror_mode": {
    "name": "ipython",
    "version": 3
   },
   "file_extension": ".py",
   "mimetype": "text/x-python",
   "name": "python",
   "nbconvert_exporter": "python",
   "pygments_lexer": "ipython3",
   "version": "3.12.4"
  }
 },
 "nbformat": 4,
 "nbformat_minor": 5
}
