{
 "cells": [
  {
   "cell_type": "markdown",
   "id": "ee1fb4b1-532e-4783-94c1-8c42c11e313d",
   "metadata": {},
   "source": [
    "#python"
   ]
  },
  {
   "cell_type": "code",
   "execution_count": 1,
   "id": "e8fca356-cb80-40a7-b486-f22fc43b1325",
   "metadata": {},
   "outputs": [
    {
     "data": {
      "text/plain": [
       "'data science'"
      ]
     },
     "execution_count": 1,
     "metadata": {},
     "output_type": "execute_result"
    }
   ],
   "source": [
    "'data science'"
   ]
  },
  {
   "cell_type": "code",
   "execution_count": 2,
   "id": "3a6c39fa-e7fe-444f-8bbc-b8433813ee6a",
   "metadata": {},
   "outputs": [
    {
     "name": "stdout",
     "output_type": "stream",
     "text": [
      "Hello Word & Welcme to Bangladesh |"
     ]
    }
   ],
   "source": [
    "print('Hello Word', 'Welcme to Bangladesh', sep=' & ', end = ' |')"
   ]
  },
  {
   "cell_type": "code",
   "execution_count": 3,
   "id": "f7bc8139-ea41-41d9-9b2a-0735f2ffc549",
   "metadata": {},
   "outputs": [
    {
     "name": "stdout",
     "output_type": "stream",
     "text": [
      "Hello World\n"
     ]
    }
   ],
   "source": [
    "var = \"Hello World\"\n",
    "print(var)"
   ]
  },
  {
   "cell_type": "code",
   "execution_count": 4,
   "id": "14e6b336-aa89-496c-b628-3f6b6cdfa187",
   "metadata": {},
   "outputs": [
    {
     "data": {
      "text/plain": [
       "3249331646320"
      ]
     },
     "execution_count": 4,
     "metadata": {},
     "output_type": "execute_result"
    }
   ],
   "source": [
    "id(var)\n"
   ]
  },
  {
   "cell_type": "code",
   "execution_count": 5,
   "id": "4565f6b3-aa95-48eb-a0c2-d2702086d5c4",
   "metadata": {},
   "outputs": [
    {
     "data": {
      "text/plain": [
       "52"
      ]
     },
     "execution_count": 5,
     "metadata": {},
     "output_type": "execute_result"
    }
   ],
   "source": [
    "import sys\n",
    "sys.getsizeof(var)"
   ]
  },
  {
   "cell_type": "code",
   "execution_count": 6,
   "id": "944295a0-980c-4673-a3b8-207ed440aaee",
   "metadata": {},
   "outputs": [],
   "source": [
    "x = 100\n"
   ]
  },
  {
   "cell_type": "code",
   "execution_count": 7,
   "id": "ecb5ca07-0f90-435a-8c81-ac02008cbd36",
   "metadata": {},
   "outputs": [
    {
     "data": {
      "text/plain": [
       "100"
      ]
     },
     "execution_count": 7,
     "metadata": {},
     "output_type": "execute_result"
    }
   ],
   "source": [
    "x"
   ]
  },
  {
   "cell_type": "code",
   "execution_count": 8,
   "id": "2cad2ca9-11a7-4fae-b344-750be31d3dad",
   "metadata": {},
   "outputs": [],
   "source": [
    "y = 100"
   ]
  },
  {
   "cell_type": "code",
   "execution_count": 9,
   "id": "b11014ce-4f9d-4a22-aaa8-451c9817f462",
   "metadata": {},
   "outputs": [
    {
     "data": {
      "text/plain": [
       "100"
      ]
     },
     "execution_count": 9,
     "metadata": {},
     "output_type": "execute_result"
    }
   ],
   "source": [
    "y"
   ]
  },
  {
   "cell_type": "code",
   "execution_count": 10,
   "id": "fb623093-44a6-4961-bc41-6e0d08cae00e",
   "metadata": {},
   "outputs": [
    {
     "data": {
      "text/plain": [
       "140717035767320"
      ]
     },
     "execution_count": 10,
     "metadata": {},
     "output_type": "execute_result"
    }
   ],
   "source": [
    "id (x)"
   ]
  },
  {
   "cell_type": "code",
   "execution_count": 11,
   "id": "7e1e7f3c-cb2c-4d25-8279-59ebdc01f911",
   "metadata": {},
   "outputs": [
    {
     "data": {
      "text/plain": [
       "140717035767320"
      ]
     },
     "execution_count": 11,
     "metadata": {},
     "output_type": "execute_result"
    }
   ],
   "source": [
    "id (y)"
   ]
  },
  {
   "cell_type": "code",
   "execution_count": 12,
   "id": "9f6fc928-28b9-4d2e-baea-0f2bf4a65f32",
   "metadata": {},
   "outputs": [],
   "source": [
    "x =1000\n",
    "y = 1000"
   ]
  },
  {
   "cell_type": "code",
   "execution_count": 15,
   "id": "fb27394f-a55e-49d0-b322-dcc58f6934e2",
   "metadata": {},
   "outputs": [
    {
     "data": {
      "text/plain": [
       "3249330599568"
      ]
     },
     "execution_count": 15,
     "metadata": {},
     "output_type": "execute_result"
    }
   ],
   "source": [
    "id (x)\n"
   ]
  },
  {
   "cell_type": "code",
   "execution_count": 14,
   "id": "0fb1254e-be50-44e3-b405-781f30ddf465",
   "metadata": {},
   "outputs": [
    {
     "data": {
      "text/plain": [
       "3249330599184"
      ]
     },
     "execution_count": 14,
     "metadata": {},
     "output_type": "execute_result"
    }
   ],
   "source": [
    "id(y)\n"
   ]
  },
  {
   "cell_type": "code",
   "execution_count": 16,
   "id": "f4f324aa-02c6-48b1-a1ab-1336a0b30dd3",
   "metadata": {},
   "outputs": [],
   "source": [
    "x,y,z=10,100,0"
   ]
  },
  {
   "cell_type": "code",
   "execution_count": 17,
   "id": "1bbf7cbb-bd91-4d3e-a7eb-ba1f2a20516a",
   "metadata": {},
   "outputs": [
    {
     "data": {
      "text/plain": [
       "10"
      ]
     },
     "execution_count": 17,
     "metadata": {},
     "output_type": "execute_result"
    }
   ],
   "source": [
    "x"
   ]
  },
  {
   "cell_type": "markdown",
   "id": "076747e3-a629-41d1-9f66-36fa789a5a3b",
   "metadata": {},
   "source": [
    "#Local vs Global"
   ]
  },
  {
   "cell_type": "code",
   "execution_count": null,
   "id": "41d26699-33b0-4332-b871-699561b05410",
   "metadata": {},
   "outputs": [],
   "source": []
  },
  {
   "cell_type": "code",
   "execution_count": 24,
   "id": "9ba8ad3d-08e4-4b5e-8039-da503dc2f47d",
   "metadata": {},
   "outputs": [
    {
     "name": "stdout",
     "output_type": "stream",
     "text": [
      "My num is  500\n",
      "My num is  500\n"
     ]
    }
   ],
   "source": [
    "def fun1():\n",
    "    global x\n",
    "    x = 500\n",
    "    print(\"My num is \", x)\n",
    "fun1()\n",
    "print(\"My num is \", x)"
   ]
  },
  {
   "cell_type": "code",
   "execution_count": null,
   "id": "2c2dabeb-7c76-439d-988f-3011972a05ca",
   "metadata": {},
   "outputs": [],
   "source": []
  }
 ],
 "metadata": {
  "kernelspec": {
   "display_name": "Python 3 (ipykernel)",
   "language": "python",
   "name": "python3"
  },
  "language_info": {
   "codemirror_mode": {
    "name": "ipython",
    "version": 3
   },
   "file_extension": ".py",
   "mimetype": "text/x-python",
   "name": "python",
   "nbconvert_exporter": "python",
   "pygments_lexer": "ipython3",
   "version": "3.12.4"
  }
 },
 "nbformat": 4,
 "nbformat_minor": 5
}
